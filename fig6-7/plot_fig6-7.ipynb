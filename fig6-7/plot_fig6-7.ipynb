{
 "cells": [
  {
   "cell_type": "code",
   "execution_count": null,
   "id": "2c187e15-3cb4-4b00-9899-a0b09ae2e0d0",
   "metadata": {},
   "outputs": [],
   "source": [
    "import sys\n",
    "sys.path.append(\"../src/\")\n",
    "from mfmodeling import NARGP, SingleGP\n",
    "# help(NARGP)"
   ]
  },
  {
   "cell_type": "markdown",
   "id": "3c144ad4-887c-482f-afd7-709975739672",
   "metadata": {},
   "source": [
    "### Read dataset"
   ]
  },
  {
   "cell_type": "code",
   "execution_count": null,
   "id": "494c62fe-4c84-430c-b092-4cb1ddd00056",
   "metadata": {},
   "outputs": [],
   "source": [
    "import numpy as np\n",
    "import matplotlib.pyplot as plt\n",
    "import pandas as pd\n",
    "\n",
    "df = pd.read_csv(\"./data/LHD_df1.csv\")\n",
    "label=df.columns.values\n",
    "print(df.shape)\n",
    "print(label[:9])\n",
    "print(label[9:14])\n",
    "print(label[14:])\n",
    "\n",
    "df_train = df[1::3]\n",
    "df_test = df.drop(df_train.index)\n",
    "print(df_train.shape, df_test.shape)"
   ]
  },
  {
   "cell_type": "code",
   "execution_count": null,
   "id": "912129d6-8069-45aa-841c-e3a0aa57dc0a",
   "metadata": {},
   "outputs": [],
   "source": [
    "name=\"Gamma_nlnr\"\n",
    "qslname=\"Gamma_qslmodel\"\n",
    "fig = plt.figure(figsize=(10,8))\n",
    "fig.suptitle(name)\n",
    "for i in range(14):\n",
    "    ax = fig.add_subplot(4,4,i+1)\n",
    "    # ax.plot(df.iloc[:,i],df.loc[:,name],\"s\")\n",
    "    ax.plot(df_train.iloc[:,i],df_train.loc[:,name],\"b+\",label=\"Train\")\n",
    "    ax.plot(df_test.iloc[:,i],df_test.loc[:,name],\"gx\",label=\"Test\")\n",
    "    # ax.plot(df.iloc[:,i],df.loc[:,qslname],\"r.\",label=\"Q.L.\")\n",
    "    ax.set_xlabel(label[i])\n",
    "    if i == 0:\n",
    "        ax.legend()\n",
    "fig.tight_layout()\n",
    "plt.show()"
   ]
  },
  {
   "cell_type": "markdown",
   "id": "988db61f-9f2c-4f40-96db-d4e76d66e971",
   "metadata": {},
   "source": [
    "### Regression by NARGP\n",
    "Low-fidelity data: Quasi-linear transport model\n",
    "High-fidelity data: Nonlinear simulation result of turbulent flux"
   ]
  },
  {
   "cell_type": "code",
   "execution_count": null,
   "id": "24cdef22-05c7-42f0-a8ed-62853b503573",
   "metadata": {},
   "outputs": [],
   "source": [
    "data_list = [[np.array(df)[:,1:9],np.array(df[qslname])[:,np.newaxis]],\n",
    "             [np.array(df_train)[:,1:9],np.array(df_train[name])[:,np.newaxis]-np.array(df_train[qslname])[:,np.newaxis]]]\n",
    "print(data_list[0][0].shape, data_list[0][1].shape)\n",
    "print(data_list[1][0].shape, data_list[1][1].shape)\n",
    "model_nargp = NARGP(data_list=data_list)             \n",
    "model_nargp.optimize(optimize_restarts=40, max_iters=400)"
   ]
  },
  {
   "cell_type": "code",
   "execution_count": null,
   "id": "24dccec0-5fed-47af-b474-cc683d4b463a",
   "metadata": {},
   "outputs": [],
   "source": [
    "mean_train, var_train = model_nargp.predict(np.array(df_train)[:,1:9])\n",
    "mean_qsl_train, _ = model_nargp.predict(np.array(df_train)[:,1:9],ifidelity=0)\n",
    "mean_train = mean_qsl_train + mean_train\n",
    "mean_test, var_test = model_nargp.predict(np.array(df_test)[:,1:9])\n",
    "mean_qsl_test, _ = model_nargp.predict(np.array(df_test)[:,1:9],ifidelity=0)\n",
    "mean_test = mean_qsl_test + mean_test\n",
    "\n",
    "ans=np.array(df_test[name])\n",
    "pred=mean_test.ravel()\n",
    "\n",
    "MSLE=((np.log(1+pred)-np.log(1+ans))**2).mean()\n",
    "R2 = 1 - np.sum((ans-pred)**2)/np.sum((ans-ans.mean())**2)\n",
    "print(\"MSLE=\",MSLE, \", R^2=\",R2)\n",
    "qsl=np.array(df_test[qslname])\n",
    "R2_qsl = 1 - np.sum((ans-qsl)**2)/np.sum((ans-ans.mean())**2)\n",
    "print(\"R_{qsl}^2=\",R2_qsl)\n",
    "\n",
    "fig=plt.figure()\n",
    "ax = fig.add_subplot()\n",
    "xmin = df[name].min()\n",
    "xmax = df[name].max()\n",
    "ax.plot([xmin,xmax],[xmin,xmax],\"--\",color=\"k\",lw=1)\n",
    "ax.plot(df_train[name],mean_train,\"bo\",label=\"Train\")\n",
    "ax.plot(df_test[name],mean_test,\"go\",label=\"Test\")\n",
    "# ax.plot(df_train[name],mean_qsl_train,\"bo\",label=\"Train\")\n",
    "# ax.plot(df_test[name],mean_qsl_test,\"go\",label=\"Test\")\n",
    "ax.plot(df_train[name],df_train[qslname],\"bx\",label=\"Q.L. model\")\n",
    "ax.plot(df_test[name],df_test[qslname],\"gx\",label=\"Q.L. model\")\n",
    "# ax.set_xlim(xmin,xmax)\n",
    "# ax.set_ylim(xmin,xmax)\n",
    "ax.set_aspect(\"equal\")\n",
    "ax.set_xlabel(name)\n",
    "ax.set_ylabel(\"NARGP\")\n",
    "ax.legend()\n",
    "plt.show()"
   ]
  },
  {
   "cell_type": "markdown",
   "id": "2405fb74-0b8f-4967-8ea8-a0d6697b5bd8",
   "metadata": {},
   "source": [
    "### Plot Figure 6"
   ]
  },
  {
   "cell_type": "code",
   "execution_count": null,
   "id": "1f55bb2a-1b39-4634-a957-f22a81f2cadb",
   "metadata": {},
   "outputs": [],
   "source": [
    "print(label)"
   ]
  },
  {
   "cell_type": "code",
   "execution_count": null,
   "id": "ab3eb889-9024-4de4-86d7-9dac12d259e0",
   "metadata": {},
   "outputs": [],
   "source": [
    "plt.style.use('../nature_style.txt')\n",
    "\n",
    "data_p = np.loadtxt(\"./data/LHDplasma1.txt\",skiprows=3)\n",
    "data_q = np.loadtxt(\"./data/LHDq1.txt\",skiprows=3)\n",
    "\n",
    "fig=plt.figure(figsize=(5.6,2.4),dpi=600) # figsize=(width,height(inch)),dpi(dots per inch)\n",
    "ax=fig.add_subplot(1,2,1)\n",
    "ax.plot(df[\"rho\"],df['n(10^19m-3)'],\"x\",c=\"C00\",markersize=3,label=r\"$n$ [$10^{19}\\mathrm{m}^{-3}$]\")\n",
    "ax.plot(data_p[:,0],data_p[:,1],\"-\",lw=0.6,c=\"C00\")\n",
    "ax.plot(df[\"rho\"],df['Te(keV)'],\"+\",c=\"C01\",markersize=4,label=r\"$T_e$ [keV]\")\n",
    "ax.plot(data_p[:,0],data_p[:,5],\"-\",lw=0.6,c=\"C01\")\n",
    "ax.plot(df[\"rho\"],df['Ti(keV)'],\".\",c=\"C02\",markersize=4,label=r\"$T_i$ [keV]\")\n",
    "ax.plot(data_p[:,0],data_p[:,9],\"-\",lw=0.6,c=\"C02\")\n",
    "ax.plot(df[\"rho\"],df['q_0'],\"s\",c=\"C03\",markersize=2,label=r\"$q$\")\n",
    "ax.plot(data_q[:,0],data_q[:,1],\"-\",lw=0.6,c=\"C03\")\n",
    "ax.set_xlabel(r\"Minor radius $r/a$\")\n",
    "ax.set_ylabel(r\"Plasma profiles\")\n",
    "ax.set_xlim(0.44,0.81)\n",
    "ax.set_ylim(0,3.1)\n",
    "ax.legend(ncol=2,loc=\"lower center\")\n",
    "ax.text(0.9, 0.91,\"(a)\",color=\"k\", fontfamily=\"sans-serif\", fontweight=\"bold\", fontsize=8, transform=ax.transAxes)\n",
    "\n",
    "ax=fig.add_subplot(1,2,2)\n",
    "ax.plot(df[\"rho\"],df[qslname],\"b+\",markersize=4,label=r\"Low-fidelity data $\\Gamma_\\mathrm{QL}$\")\n",
    "ax.plot(df_train[\"rho\"],df_train[name],\"gx\",markersize=3,label=r\"High-fidelity data $\\Gamma_\\mathrm{NL}$ (Train)\")\n",
    "# ax=fig.add_subplot(3,1,2)\n",
    "# # ax.plot(X1, Y1,'g.', label=\"Low-fidelity data\")\n",
    "# ax.plot(X2,Y2,\"bo\",markersize=2,label=\"High-fidelity data\")\n",
    "# ax.plot(Xtest,Exact,\"b\",lw=1,label=\"Target function\")\n",
    "# ax.plot(Xtest, mean_singlegp, 'r--', lw=1,label = 'SingleGP pred.')\n",
    "# ax.fill_between(Xtest.ravel(), (mean_singlegp-2.0*np.sqrt(var_singlegp)).ravel(), (mean_singlegp+2.0*np.sqrt(var_singlegp)).ravel(), alpha=0.1, color='red')\n",
    "# ax.set_xlabel(r\"$x$\")\n",
    "ax.set_xlabel(r\"Minor radius $r/a$\")\n",
    "ax.set_ylabel(r\"Turbulent transport fluxes\")\n",
    "ax.set_xlim(0.44,0.81)\n",
    "ax.set_ylim(None,None)\n",
    "ax.legend(loc=\"lower left\")\n",
    "ax.text(0.9, 0.91,\"(b)\",color=\"k\", fontfamily=\"sans-serif\", fontweight=\"bold\", fontsize=8, transform=ax.transAxes)\n",
    "\n",
    "\n",
    "fig.tight_layout()\n",
    "plt.savefig(\"fig6.pdf\",dpi=600,bbox_inches=\"tight\")\n",
    "plt.show() "
   ]
  },
  {
   "cell_type": "markdown",
   "id": "01e5b668-d50a-4c86-9bde-cb2054bd3995",
   "metadata": {},
   "source": [
    "### Plot Figure 7"
   ]
  },
  {
   "cell_type": "code",
   "execution_count": null,
   "id": "00d2d4b2-d403-4523-a1eb-1928a9bebc70",
   "metadata": {},
   "outputs": [],
   "source": [
    "plt.style.use('../nature_style.txt')\n",
    "\n",
    "fig=plt.figure(figsize=(5.35,2.4),dpi=600) # figsize=(width,height(inch)),dpi(dots per inch)\n",
    "gs=fig.add_gridspec(1,2,width_ratios=(1,1.23))\n",
    "ax=fig.add_subplot(gs[0])\n",
    "xmin = np.min([df[name].min(),df[qslname].min(),mean_train.min()])\n",
    "xmax = np.max([df[name].max(),df[qslname].max(),mean_train.max()])\n",
    "ax.plot([xmin,xmax],[xmin,xmax],\"--\",color=\"k\",lw=1)\n",
    "ax.plot(mean_train,df_train[name],\"o\",c=\"b\",markersize=3,label=\"NARGP (Train)\")\n",
    "ax.plot(mean_test,df_test[name],\"s\",c=\"r\",markersize=3,label=\"NARGP (Test)\")\n",
    "ax.plot(df_train[qslname],df_train[name],\"+\",c=\"C00\",markersize=4,label=\"Q.L. (Train)\")\n",
    "ax.plot(df_test[qslname],df_test[name],\"x\",c=\"C01\",markersize=3,label=\"Q.L. (Test)\")\n",
    "# ax.set_xlim(xmin,xmax)\n",
    "# ax.set_ylim(xmin,xmax)\n",
    "ax.set_aspect(\"equal\")\n",
    "ax.set_xlabel(\"Prediction\")\n",
    "ax.set_ylabel(\"Nonlinear turbulent flux $\\Gamma_\\mathrm{NL}$\")\n",
    "ax.legend(loc=\"upper left\",bbox_to_anchor=(0,0.92))\n",
    "ax.text(0.035, 0.91,\"(a)\",color=\"k\", fontfamily=\"sans-serif\", fontweight=\"bold\", fontsize=8, transform=ax.transAxes)\n",
    "\n",
    "mean, var = model_nargp.predict(np.array(df)[:,1:9])\n",
    "mean_qsl, var_qsl = model_nargp.predict(np.array(df)[:,1:9],ifidelity=0)\n",
    "mean = mean_qsl + mean\n",
    "var = var_qsl + var # Estimation by assuming independent variance\n",
    "# print(mean,df[name]-df[qslname])\n",
    "\n",
    "ax=fig.add_subplot(gs[1])\n",
    "ax.plot(df[\"rho\"],df[qslname],\"b+\",markersize=4,label=r\"Low-fidelity data $\\Gamma_\\mathrm{QL}$\")\n",
    "# ax.plot(df[\"rho\"],df[name],\"gx-\",markersize=3,label=r\"High-fidelity data $\\Gamma_\\mathrm{NL}$\")\n",
    "ax.plot(df[\"rho\"],df[name], color=\"g\", linestyle=(0, (3, 9)))\n",
    "ax.plot(df[\"rho\"],df[name], color=\"orange\", linestyle=(6, (3, 9)))\n",
    "ax.plot(df_train[\"rho\"],df_train[name],\"gx\",markersize=3,label=r\"High-fidelity data $\\Gamma_\\mathrm{NL}$ (Train)\")\n",
    "ax.plot(df_test[\"rho\"],df_test[name],\"^\",color=\"orange\",markersize=3,label=r\"High-fidelity data $\\Gamma_\\mathrm{NL}$ (Test)\")\n",
    "ax.plot(df[\"rho\"],mean,\"ro-\",markersize=3,label=\"NARGP pred. $\\Gamma_\\mathrm{NARGP}$\")\n",
    "ax.fill_between(df[\"rho\"], (mean-2.0*np.sqrt(var)).ravel(), (mean+2.0*np.sqrt(var)).ravel(), alpha=0.1, color='red')\n",
    "ax.set_xlabel(r\"Minor radius $r/a$\")\n",
    "ax.set_ylabel(r\"Turbulent transport fluxes\")\n",
    "ax.set_xlim(0.44,0.81)\n",
    "ax.set_ylim(None,None)\n",
    "ax.legend(loc=\"lower left\")\n",
    "ax.text(0.9, 0.91,\"(b)\",color=\"k\", fontfamily=\"sans-serif\", fontweight=\"bold\", fontsize=8, transform=ax.transAxes)\n",
    "\n",
    "fig.tight_layout()\n",
    "plt.savefig(\"fig7.pdf\",dpi=600,bbox_inches=\"tight\")\n",
    "plt.show() "
   ]
  },
  {
   "cell_type": "code",
   "execution_count": null,
   "id": "ca4dbf45-887f-46a3-950e-4a0c24a61d3e",
   "metadata": {},
   "outputs": [],
   "source": [
    "fig=plt.figure(figsize=(2.9,4.8),dpi=200) # figsize=(width,height(inch)),dpi(dots per inch)\n",
    "gs=fig.add_gridspec(2,1,height_ratios=(1.5,1))\n",
    "ax=fig.add_subplot(gs[1])\n",
    "ax.plot(df[\"rho\"],df[qslname],\"b+\",markersize=4,label=r\"Low-fidelity data $\\Gamma_\\mathrm{QL}$\")\n",
    "ax.plot(df[\"rho\"],df[name],\"gx-\",markersize=3,label=r\"High-fidelity data $\\Gamma_\\mathrm{NL}$\")\n",
    "ax.plot(df[\"rho\"],mean,\"ro-\",markersize=3,label=\"NARGP pred. $\\Gamma_\\mathrm{NARGP}$\")\n",
    "ax.plot(df[\"rho\"],mean_qsl,\"o-\",color=\"orange\",markersize=3,label=\"1st stage of NARGP $\\Gamma_\\mathrm{QL,NARGP}$\")\n",
    "ax.fill_between(df[\"rho\"], (mean-2.0*np.sqrt(var)).ravel(), (mean+2.0*np.sqrt(var)).ravel(), alpha=0.1, color='red')\n",
    "ax.set_xlabel(r\"Minor radius $r/a$\")\n",
    "ax.set_ylabel(r\"Turbulent transport fluxes\")\n",
    "ax.set_xlim(0.44,0.81)\n",
    "ax.set_ylim(None,None)\n",
    "ax.legend(loc=\"lower left\")\n",
    "ax.text(0.9, 0.89,\"(b)\",color=\"k\", fontfamily=\"sans-serif\", fontweight=\"bold\", fontsize=8, transform=ax.transAxes)\n",
    "fig.tight_layout()\n",
    "plt.show() "
   ]
  },
  {
   "cell_type": "code",
   "execution_count": null,
   "id": "137ddcab-124f-4166-ab49-8521f810d5ec",
   "metadata": {},
   "outputs": [],
   "source": []
  },
  {
   "cell_type": "code",
   "execution_count": null,
   "id": "7d56da58-fc9e-4d95-8dd1-5ae9e6b5d47e",
   "metadata": {},
   "outputs": [],
   "source": []
  }
 ],
 "metadata": {
  "kernelspec": {
   "display_name": "Python 3 (ipykernel)",
   "language": "python",
   "name": "python3"
  },
  "language_info": {
   "codemirror_mode": {
    "name": "ipython",
    "version": 3
   },
   "file_extension": ".py",
   "mimetype": "text/x-python",
   "name": "python",
   "nbconvert_exporter": "python",
   "pygments_lexer": "ipython3",
   "version": "3.10.13"
  }
 },
 "nbformat": 4,
 "nbformat_minor": 5
}
