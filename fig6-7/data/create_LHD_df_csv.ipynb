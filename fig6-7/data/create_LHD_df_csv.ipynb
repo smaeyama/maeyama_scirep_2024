{
 "cells": [
  {
   "cell_type": "code",
   "execution_count": 1,
   "id": "e61d2aae-135e-4ff2-9e7d-a82de36440bf",
   "metadata": {},
   "outputs": [
    {
     "name": "stdout",
     "output_type": "stream",
     "text": [
      "27 (10, 27)\n",
      "['rho', 'n(10^19m-3)', 'dn/dr', 'Ln', 'R/Ln', 'Te(keV)', 'dTe/dr', 'LTe', 'R/LTe', 'Ti(kev)', 'dTi/dr', 'LTi', 'R/LTi', 'q_0', 's_hat', '\\\\gamma/ky^2', 'zfdt', '\\\\chi_e_nlnr', '\\\\chi_e_model', 'Qe_nlnr', 'Qe_qslmodel', '\\\\chi_i_nlnr', '\\\\chi_i_model', 'Qi_nlnr', 'Qi_qslmodel', '\\\\Gamma_nlnr', '\\\\Gamma_qslmodel']\n",
      "21 (5, 21)\n",
      "['rho', 'n(10^19m-3)', '(dn/dr)^-1', 'Ln', 'R/Ln', 'Te=Ti(keV)', 'R/LTi', 'q_0', 's_hat', '\\\\gamma/ky^2', 'zfdt', '\\\\chi_e_nlnr', '\\\\chi_e_model', 'Qe_nlnr', 'Qe_qslmodel', '\\\\chi_i_nlnr', '\\\\chi_i_model', 'Qi_nlnr', 'Qi_qslmodel', '\\\\Gamma_nlnr', '\\\\Gamma_qslmodel']\n",
      "22 (5, 22)\n",
      "['rho', 'n(10^19m-3)', '(dn/dr)', 'Ln', 'R/Ln', 'Te=Ti(keV)', 'dTi/dr', 'R/LTi', 'q_0', 's_hat', '\\\\gamma/ky^2', 'zfdt', '\\\\chi_e_nlnr', '\\\\chi_e_model', 'Qe_nlnr', 'Qe_qslmodel', '\\\\chi_i_nlnr', '\\\\chi_i_model', 'Qi_nlnr', 'Qi_qslmodel', '\\\\Gamma_nlnr', '\\\\Gamma_qslmodel']\n"
     ]
    }
   ],
   "source": [
    "import numpy as np\n",
    "import matplotlib.pyplot as plt\n",
    "import pandas as pd\n",
    "from scipy import optimize, interpolate\n",
    "\n",
    "class interp_LHD_data():\n",
    "    def __init__(self, *args, **kwargs):\n",
    "        file_p = kwargs.get(\"file_p\")\n",
    "        file_q = kwargs.get(\"file_q\")        \n",
    "        data_p = np.loadtxt(file_p,skiprows=3)\n",
    "        data_q = np.loadtxt(file_q,skiprows=3)\n",
    "        with open(file_p,mode=\"r\") as f:\n",
    "            line = f.readlines()[2]\n",
    "            label = line.split()\n",
    "        # print(label,data_p.shape, data_q.shape)\n",
    "        p_interp = interpolate.CubicSpline(data_p[:,0],data_p[:,1:],axis=0)\n",
    "        q_interp = interpolate.CubicSpline(data_q[:,0],data_q[:,1])\n",
    "        self.__label = label\n",
    "        self.__p_interp = p_interp\n",
    "        self.__q_interp = q_interp\n",
    "        return\n",
    "    \n",
    "    def get_profile(self, rho):\n",
    "        plasma = self.__p_interp(rho)\n",
    "        q_0 = self.__q_interp(rho)        \n",
    "        dqdrho = self.__q_interp.derivative()(rho)\n",
    "        s_hat = rho * dqdrho / q_0\n",
    "        prof = np.concatenate([rho[:,np.newaxis],plasma,q_0[:,np.newaxis],s_hat[:,np.newaxis]],axis=1)\n",
    "        label = self.__label.copy()\n",
    "        label.append(\"q_0\")\n",
    "        label.append(\"s_hat\")\n",
    "        return prof, label\n",
    "\n",
    "def read_LHD_model(file_m):\n",
    "    data = np.loadtxt(file_m,skiprows=3)\n",
    "    with open(file_m,mode=\"r\") as f:\n",
    "        line = f.readlines()[2]\n",
    "        label = line.split()\n",
    "    return data, label\n",
    "\n",
    "interpLHDplasma1 = interp_LHD_data(file_p=\"LHDplasma1.txt\",file_q=\"LHDq1.txt\")\n",
    "interpLHDplasma2 = interp_LHD_data(file_p=\"LHDplasma2.txt\",file_q=\"LHDq2.txt\")\n",
    "interpLHDplasma3 = interp_LHD_data(file_p=\"LHDplasma3.txt\",file_q=\"LHDq3.txt\")\n",
    "\n",
    "model1, label_m1 = read_LHD_model(file_m=\"LHDmodel1.txt\")\n",
    "model2, label_m2 = read_LHD_model(file_m=\"LHDmodel2.txt\")\n",
    "model3, label_m3 = read_LHD_model(file_m=\"LHDmodel3.txt\")\n",
    "\n",
    "prof1, label_p1 = interpLHDplasma1.get_profile(model1[:,0])\n",
    "prof2, label_p2 = interpLHDplasma2.get_profile(model2[:,0])\n",
    "prof3, label_p3 = interpLHDplasma3.get_profile(model3[:,0])\n",
    "\n",
    "label1 = label_p1 + label_m1[1:]\n",
    "data1 = np.concatenate([prof1[:,:],model1[:,1:]],axis=1)\n",
    "label2 = label_p2 + label_m2[1:]\n",
    "data2 = np.concatenate([prof2[:,:],model2[:,1:]],axis=1)\n",
    "label3 = label_p3 + label_m3[1:]\n",
    "data3 = np.concatenate([prof3[:,:],model3[:,1:]],axis=1)\n",
    "\n",
    "print(len(label1),data1.shape); print(label1)\n",
    "print(len(label2),data2.shape); print(label2)\n",
    "print(len(label3),data3.shape); print(label3)"
   ]
  },
  {
   "cell_type": "code",
   "execution_count": 2,
   "id": "9078b8db-1d06-4375-a3ed-b5219d2eee46",
   "metadata": {
    "tags": []
   },
   "outputs": [
    {
     "name": "stdout",
     "output_type": "stream",
     "text": [
      "(10, 17)\n"
     ]
    }
   ],
   "source": [
    "dataset1 = np.concatenate([data1[:,0:1],  # rho\n",
    "                           data1[:,1:2],  # n(10^19m-3)\n",
    "                           data1[:,4:5],  # R/Ln\n",
    "                           data1[:,5:6],  # Te(keV)\n",
    "                           data1[:,8:9],  # R/LTe\n",
    "                           data1[:,9:10],  # Ti(keV)\n",
    "                           data1[:,12:13], # R/LTi\n",
    "                           data1[:,13:14], # q_0\n",
    "                           data1[:,14:15], # s_hat\n",
    "                           data1[:,15:16], # gamma/ky^2\n",
    "                           data1[:,16:17], # zfdt\n",
    "                           data1[:,20:21], # Qe_qslmodel\n",
    "                           data1[:,24:25], # Qi_qslmodel\n",
    "                           data1[:,26:27], # Gamma_qslmodel\n",
    "                           data1[:,19:20], # Qe_nlnr\n",
    "                           data1[:,23:24], # Qi_nlnr\n",
    "                           data1[:,25:26]  # Gamma_nlnr\n",
    "                          ], axis=1)\n",
    "print(dataset1.shape)"
   ]
  },
  {
   "cell_type": "code",
   "execution_count": 3,
   "id": "56175e56-dbd7-4115-9a73-c82175332e0f",
   "metadata": {
    "tags": []
   },
   "outputs": [
    {
     "name": "stdout",
     "output_type": "stream",
     "text": [
      "(5, 17)\n"
     ]
    }
   ],
   "source": [
    "dataset2 = np.concatenate([data2[:,0:1],  # rho\n",
    "                           data2[:,1:2],  # n(10^19m-3)\n",
    "                           data2[:,4:5],  # R/Ln\n",
    "                           data2[:,5:6],  # Te(keV)\n",
    "                           data2[:,6:7],  # R/LTe\n",
    "                           data2[:,5:6],  # Ti(keV)\n",
    "                           data2[:,6:7],  # R/LTi\n",
    "                           data2[:,7:8],  # q_0\n",
    "                           data2[:,8:9],  # s_hat\n",
    "                           data2[:,9:10], # gamma/ky^2\n",
    "                           data2[:,10:11], # zfdt\n",
    "                           data2[:,14:15], # Qe_qslmodel\n",
    "                           data2[:,18:19], # Qi_qslmodel\n",
    "                           data2[:,20:21], # Gamma_qslmodel\n",
    "                           data2[:,13:14], # Qe_nlnr\n",
    "                           data2[:,17:18], # Qi_nlnr\n",
    "                           data2[:,19:20]  # Gamma_nlnr\n",
    "                          ], axis=1)\n",
    "print(dataset2.shape)"
   ]
  },
  {
   "cell_type": "code",
   "execution_count": 4,
   "id": "79deeba3-b988-46db-8e60-a3548b0d9871",
   "metadata": {},
   "outputs": [
    {
     "name": "stdout",
     "output_type": "stream",
     "text": [
      "(5, 17)\n"
     ]
    }
   ],
   "source": [
    "dataset3 = np.concatenate([data3[:,0:1],  # rho\n",
    "                           data3[:,1:2],  # n(10^19m-3)\n",
    "                           data3[:,4:5],  # R/Ln\n",
    "                           data3[:,5:6],  # Te(keV)\n",
    "                           data3[:,7:8],  # R/LTe\n",
    "                           data3[:,5:6],  # Ti(keV)\n",
    "                           data3[:,7:8],  # R/LTi\n",
    "                           data3[:,8:9],  # q_0\n",
    "                           data3[:,9:10], # s_hat\n",
    "                           data3[:,10:11], # gamma/ky^2\n",
    "                           data3[:,11:12], # zfdt\n",
    "                           data3[:,15:16], # Qe_qslmodel\n",
    "                           data3[:,19:20], # Qi_qslmodel\n",
    "                           data3[:,21:22], # Gamma_qslmodel\n",
    "                           data3[:,14:15], # Qe_nlnr\n",
    "                           data3[:,18:19], # Qi_nlnr\n",
    "                           data3[:,20:21]  # Gamma_nlnr\n",
    "                          ], axis=1)\n",
    "print(dataset3.shape)"
   ]
  },
  {
   "cell_type": "code",
   "execution_count": 5,
   "id": "688e30fe-e91f-40ab-b763-a7c9642487c1",
   "metadata": {},
   "outputs": [
    {
     "name": "stdout",
     "output_type": "stream",
     "text": [
      "17\n",
      "['rho', 'n(10^19m-3)', 'R/Ln', 'Te(keV)', 'R/LTe', 'Ti(keV)', 'R/LTi', 'q_0', 's_hat', 'gamma/ky^2', 'zfdt', 'Qe_qslmodel', 'Qi_qslmodel', 'Gamma_qslmodel', 'Qe_nlnr', 'Qi_nlnr', 'Gamma_nlnr']\n"
     ]
    }
   ],
   "source": [
    "label = [\"rho\", \"n(10^19m-3)\", \"R/Ln\", \"Te(keV)\", \"R/LTe\", \"Ti(keV)\", \"R/LTi\", \"q_0\", \"s_hat\",\n",
    "         \"gamma/ky^2\", \"zfdt\", \"Qe_qslmodel\", \"Qi_qslmodel\", \"Gamma_qslmodel\", \n",
    "         \"Qe_nlnr\", \"Qi_nlnr\", \"Gamma_nlnr\"]\n",
    "print(len(label))\n",
    "print(label)"
   ]
  },
  {
   "cell_type": "code",
   "execution_count": 6,
   "id": "8abd35c2-13ec-4024-902c-95ddcdb9f3e8",
   "metadata": {},
   "outputs": [],
   "source": [
    "df1 = pd.DataFrame(dataset1,columns=label)\n",
    "df1.to_csv(\"LHD_df1.csv\",index=False)\n",
    "df2 = pd.DataFrame(dataset2,columns=label)\n",
    "df2.to_csv(\"LHD_df2.csv\",index=False)\n",
    "df3 = pd.DataFrame(dataset3,columns=label)\n",
    "df3.to_csv(\"LHD_df3.csv\",index=False)"
   ]
  },
  {
   "cell_type": "code",
   "execution_count": 7,
   "id": "9c1143f1-0692-4fa0-863d-62e914153e22",
   "metadata": {},
   "outputs": [
    {
     "name": "stdout",
     "output_type": "stream",
     "text": [
      "    rho  n(10^19m-3)     R/Ln  Te(keV)    R/LTe  Ti(keV)    R/LTi     q_0  \\\n",
      "0  0.46       1.2436 -0.51928   2.9416   4.5804   2.9230   7.9322  2.1956   \n",
      "1  0.50       1.2486 -0.72958   2.8502   5.3065   2.7717   8.7514  2.0927   \n",
      "2  0.54       1.2551 -0.90278   2.7479   6.1269   2.6143   9.6056  1.9858   \n",
      "3  0.58       1.2628 -1.00630   2.6346   7.0567   2.4521  10.4980  1.8764   \n",
      "4  0.62       1.2710 -1.00200   2.5099   8.1142   2.2867  11.4330  1.7655   \n",
      "5  0.65       1.2769 -0.90183   2.4090   9.0047   2.1613  12.1640  1.6820   \n",
      "6  0.68       1.2818 -0.69537   2.3017   9.9917   2.0356  12.9220  1.5986   \n",
      "7  0.72       1.2857 -0.21250   2.1491  11.4830   1.8684  13.9760  1.4879   \n",
      "8  0.76       1.2845  0.57186   1.9860  13.2160   1.7033  15.0810  1.3784   \n",
      "9  0.80       1.2753  1.74850   1.8135  15.2480   1.5416  16.2350  1.2703   \n",
      "\n",
      "      s_hat  gamma/ky^2  zfdt  Qe_qslmodel  Qi_qslmodel  Gamma_qslmodel  \\\n",
      "0 -0.527293         0.8   2.6         21.0         70.0          4.1000   \n",
      "1 -0.627271         1.1   2.5         27.0         93.0          6.7000   \n",
      "2 -0.736527         1.6   2.5         34.0        100.0          2.0001   \n",
      "3 -0.852746         2.1   2.4         37.0        100.0          1.0220   \n",
      "4 -0.976058         2.6   2.1         62.0         17.0         -0.3400   \n",
      "5 -1.076541         3.1   2.2         62.0        170.0         -0.9000   \n",
      "6 -1.180718         3.5   2.1         77.0        200.0         -3.1000   \n",
      "7 -1.333695         4.4   1.9        100.0        250.0         -5.5000   \n",
      "8 -1.499658         5.3   1.6        180.0        530.0        -10.0000   \n",
      "9 -1.689405         6.5   1.5        320.0        750.0        -22.0000   \n",
      "\n",
      "   Qe_nlnr  Qi_nlnr  Gamma_nlnr  \n",
      "0     12.0     50.0        0.67  \n",
      "1     21.0     71.0        0.55  \n",
      "2     32.0    110.0       -0.29  \n",
      "3     38.0    110.0       -1.00  \n",
      "4     69.0    190.0       -3.10  \n",
      "5     70.0    220.0       -5.50  \n",
      "6     71.0    230.0       -8.10  \n",
      "7    120.0    360.0      -14.00  \n",
      "8    200.0    490.0      -13.00  \n",
      "9    300.0    670.0      -19.00  \n",
      "    rho  n(10^19m-3)    R/Ln  Te(keV)    R/LTe  Ti(keV)    R/LTi     q_0  \\\n",
      "0  0.65        1.523  1.9471   1.1680   7.9540   1.1680   7.9540  1.5790   \n",
      "1  0.68        1.505  2.6986   1.1180   8.7264   1.1180   8.7264  1.4971   \n",
      "2  0.72        1.470  3.9215   1.0470   9.8719   1.0470   9.8719  1.3879   \n",
      "3  0.76        1.423  5.4617   0.9720  11.1760   0.9720  11.1760  1.2788   \n",
      "4  0.80        1.360  7.4397   0.8937  12.6550   0.8937  12.6550  1.1702   \n",
      "\n",
      "      s_hat  gamma/ky^2  zfdt  Qe_qslmodel  Qi_qslmodel  Gamma_qslmodel  \\\n",
      "0 -1.117299      0.1800   3.3          8.6         13.0             1.8   \n",
      "1 -1.239343      0.6200   3.2         15.0         23.0             3.4   \n",
      "2 -1.416480      1.0000   3.3         29.0         45.0             7.1   \n",
      "3 -1.618242      1.6654   3.0         48.0         75.0            13.0   \n",
      "4 -1.849405      2.2000   2.9         64.0         99.0            19.0   \n",
      "\n",
      "   Qe_nlnr  Qi_nlnr  Gamma_nlnr  \n",
      "0      5.0      8.6        0.87  \n",
      "1     17.0     31.0        3.70  \n",
      "2     32.0     58.0        7.40  \n",
      "3     30.0     55.0        8.10  \n",
      "4     60.0    100.0       19.00  \n",
      "    rho  n(10^19m-3)    R/Ln  Te(keV)   R/LTe  Ti(keV)   R/LTi       q_0  \\\n",
      "0  0.72       1.4817  5.7085  0.95615   9.863  0.95615   9.863  1.270988   \n",
      "1  0.74       1.4530  5.9996  0.92365  10.911  0.92365  10.911  1.241989   \n",
      "2  0.76       1.4235  6.2568  0.88893  12.104  0.88893  12.104  1.213469   \n",
      "3  0.78       1.3934  6.4730  0.85188  13.473  0.85188  13.473  1.185649   \n",
      "4  0.80       1.3632  6.6395  0.81238  15.053  0.81238  15.053  1.158145   \n",
      "\n",
      "      s_hat  gamma/ky^2  zfdt  Qe_qslmodel  Qi_qslmodel  Gamma_qslmodel  \\\n",
      "0 -0.830418        0.27   2.3         32.0         48.0             9.5   \n",
      "1 -0.856820        0.54   2.3         41.0         64.0            11.0   \n",
      "2 -0.880144        1.10   2.3         71.0        100.0            18.0   \n",
      "3 -0.910820        2.20   2.3         94.0        150.0            23.0   \n",
      "4 -0.940708        2.90   2.2        120.0        200.0            28.0   \n",
      "\n",
      "   Qe_nlnr  Qi_nlnr  Gamma_nlnr  \n",
      "0     18.0     39.0        11.0  \n",
      "1     33.0     73.0        10.0  \n",
      "2     87.0    120.0        16.0  \n",
      "3     66.0    140.0        18.0  \n",
      "4    150.0    290.0        33.0  \n"
     ]
    }
   ],
   "source": [
    "print(df1)\n",
    "print(df2)\n",
    "print(df3)"
   ]
  },
  {
   "cell_type": "code",
   "execution_count": null,
   "id": "d8ecd2be-fbad-445f-a370-bf825efd214a",
   "metadata": {},
   "outputs": [],
   "source": []
  }
 ],
 "metadata": {
  "kernelspec": {
   "display_name": "Python 3 (ipykernel)",
   "language": "python",
   "name": "python3"
  },
  "language_info": {
   "codemirror_mode": {
    "name": "ipython",
    "version": 3
   },
   "file_extension": ".py",
   "mimetype": "text/x-python",
   "name": "python",
   "nbconvert_exporter": "python",
   "pygments_lexer": "ipython3",
   "version": "3.10.13"
  }
 },
 "nbformat": 4,
 "nbformat_minor": 5
}
