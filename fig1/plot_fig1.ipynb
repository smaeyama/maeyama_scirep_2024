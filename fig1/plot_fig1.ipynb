{
 "cells": [
  {
   "cell_type": "code",
   "execution_count": null,
   "id": "0cdc6750-2d1f-465d-9062-1743fa412254",
   "metadata": {},
   "outputs": [],
   "source": [
    "import sys\n",
    "sys.path.append(\"../src/\")\n",
    "from mfmodeling import NARGP, SingleGP\n",
    "# help(NARGP)"
   ]
  },
  {
   "cell_type": "markdown",
   "id": "f041cc22-74be-4656-a41f-d93cc5227335",
   "metadata": {},
   "source": [
    "### Preparation of data set"
   ]
  },
  {
   "cell_type": "code",
   "execution_count": null,
   "id": "02577aaa-2787-4f64-a5a8-f3108bf25ec0",
   "metadata": {},
   "outputs": [],
   "source": [
    "import numpy as np\n",
    "from matplotlib import pyplot as plt\n",
    "\n",
    "np.random.seed(24)\n",
    "\n",
    "''' function definitions '''\n",
    "def high(x):\n",
    "    return (x-np.sqrt(2))*low(x)**2\n",
    "    # return low(x)**2\n",
    "\n",
    "def low(x):\n",
    "    return np.sin(4.0*np.pi*x)\n",
    "\n",
    "''' Define training and test points '''\n",
    "dim = 1\n",
    "s = 2\n",
    "plot = 1\n",
    "N1 = 50\n",
    "N2 = np.array([15])\n",
    "\n",
    "Nts = 400\n",
    "Xtest = np.linspace(0,2, Nts)[:,None]\n",
    "Exact= high(Xtest)\n",
    "Low = low(Xtest)\n",
    "\n",
    "X1 = np.linspace(0,2, N1)[:,None]\n",
    "# perm = np.random.permutation(N1)\n",
    "perm = np.random.permutation(int(N1*0.6))\n",
    "X2 = X1[perm[0:N2[0]]]\n",
    "\n",
    "Y1 = low(X1)\n",
    "Y2 = high(X2)\n",
    "\n",
    "plt.plot(Xtest,Exact,label=\"Target function\")\n",
    "plt.plot(Xtest,Low,\"--\")\n",
    "plt.scatter(X2,Y2,label=\"High-fidelity data\")\n",
    "plt.scatter(X1,Y1,label=\"Low-fidelity data\")\n",
    "plt.legend()\n",
    "plt.ylim(-1.5,1.5)\n",
    "plt.show()\n",
    "\n",
    "data_low = np.hstack([X1,Y1])\n",
    "np.savetxt(\"low_fid.txt\",data_low)\n",
    "data_high = np.hstack([X2,Y2])\n",
    "np.savetxt(\"high_fid.txt\",data_high)"
   ]
  },
  {
   "cell_type": "markdown",
   "id": "c0bd3177-b766-49b3-9b61-42b230259d36",
   "metadata": {},
   "source": [
    "### Regression model by NARGP"
   ]
  },
  {
   "cell_type": "code",
   "execution_count": null,
   "id": "435f4939-5c38-4ec6-8eeb-f594c73c7391",
   "metadata": {},
   "outputs": [],
   "source": [
    "data_list = [[X1,Y1], # Low-fidelity data set\n",
    "             [X2,Y2]] # High-fidelity data set\n",
    "model_nargp = NARGP(data_list=data_list)\n",
    "model_nargp.optimize(optimize_restarts=10, max_iters=200)\n",
    "mean, var = model_nargp.predict(Xtest)"
   ]
  },
  {
   "cell_type": "code",
   "execution_count": null,
   "id": "1e0109cb-9095-4603-939f-d7c4b128af82",
   "metadata": {},
   "outputs": [],
   "source": [
    "fig = plt.figure()\n",
    "ax = fig.add_subplot()\n",
    "ax.plot(Xtest, Exact, 'b', label='Exact', linewidth = 2)\n",
    "ax.plot(Xtest, mean, 'r--', label = 'NARGP prediction', linewidth = 2)\n",
    "ax.fill_between(Xtest.ravel(), (mean-2.0*np.sqrt(var)).ravel(), (mean+2.0*np.sqrt(var)).ravel(), alpha=0.1, color='red')\n",
    "ax.plot(X1, Y1,'g.', label=\"Low-fidelity data\")\n",
    "ax.plot(X2, Y2,'bo', label=\"High-fidelity data\")\n",
    "ax.set_xlabel(\"x\")\n",
    "ax.set_ylabel(\"y\")\n",
    "ax.set_ylim(-2,1.5)\n",
    "ax.legend()\n",
    "plt.show()\n",
    "\n",
    "mean0, var0 = model_nargp.predict(Xtest,ifidelity=0)\n",
    "fig = plt.figure()\n",
    "ax = fig.add_subplot()\n",
    "ax.plot(Low, Exact, label = \"Exact correlation\")\n",
    "ax.plot(mean0, mean, label = \"Predicted correlation\")\n",
    "ax.set_xlabel(r\"Low fidelity $y_0$\")\n",
    "ax.set_ylabel(r\"High fidelity $y_1$\")\n",
    "ax.legend()\n",
    "plt.show()"
   ]
  },
  {
   "cell_type": "markdown",
   "id": "930cdd19-be01-4e9f-b5d7-54f39420e17e",
   "metadata": {},
   "source": [
    "### Regression model by single GP"
   ]
  },
  {
   "cell_type": "code",
   "execution_count": null,
   "id": "d6760c79-e8e6-486d-9245-8e6f708cae56",
   "metadata": {},
   "outputs": [],
   "source": [
    "data = [X2,Y2] # Single GP using only high-fidelity data\n",
    "model_singlegp = SingleGP(data = data)\n",
    "model_singlegp.optimize(optimize_restarts=10, max_iters=200)\n",
    "mean_singlegp, var_singlegp = model_singlegp.predict(Xtest)"
   ]
  },
  {
   "cell_type": "code",
   "execution_count": null,
   "id": "729997aa-3a1d-41ec-8fa7-a713bb135e19",
   "metadata": {},
   "outputs": [],
   "source": [
    "fig = plt.figure()\n",
    "ax = fig.add_subplot()\n",
    "ax.plot(Xtest, Exact, 'b', label='Exact', linewidth = 2)\n",
    "ax.plot(Xtest, mean_singlegp, 'r--', label = 'SingleGP prediction', linewidth = 2)\n",
    "ax.fill_between(Xtest.ravel(), (mean_singlegp-2.0*np.sqrt(var_singlegp)).ravel(), (mean_singlegp+2.0*np.sqrt(var_singlegp)).ravel(), alpha=0.1, color='red')\n",
    "ax.plot(X1, Y1,'g.', label=\"Low-fidelity data\")\n",
    "ax.plot(X2, Y2,'bo', label=\"High-fidelity data\")\n",
    "ax.set_xlabel(\"x\")\n",
    "ax.set_ylabel(\"y\")\n",
    "ax.set_ylim(-2,1.5)\n",
    "ax.legend()\n",
    "plt.show()"
   ]
  },
  {
   "cell_type": "markdown",
   "id": "4cb7b0ec-15e5-4435-93c5-18857e6f8859",
   "metadata": {},
   "source": [
    "### Plot Figure 1"
   ]
  },
  {
   "cell_type": "code",
   "execution_count": null,
   "id": "0355c579-532d-4ad9-813d-789e477145d3",
   "metadata": {},
   "outputs": [],
   "source": [
    "plt.style.use('../nature_style.txt')\n",
    "\n",
    "fig=plt.figure(figsize=(3.3,5),dpi=600) # figsize=(width,height(inch)),dpi(dots per inch)\n",
    "ax=fig.add_subplot(3,1,1)\n",
    "ax.plot(X1,Y1,\"g+\",label=\"Low-fidelity data\")\n",
    "ax.plot(Xtest,Low,\"g--\",lw=1)\n",
    "ax.plot(X2,Y2,\"bo\",markersize=2,label=\"High-fidelity data\")\n",
    "ax.plot(Xtest,Exact,\"b\",lw=1,label=\"Target function\")\n",
    "ax.set_xlabel(r\"$x$\")\n",
    "ax.set_ylabel(r\"$y$\")\n",
    "ax.set_xlim(0,2)\n",
    "ax.set_ylim(-2.2,1.2)\n",
    "ax.legend(ncol=2)\n",
    "ax.text(1.82,0.8,\"(a)\",color=\"k\", fontfamily=\"sans-serif\", fontweight=\"bold\", fontsize=8)\n",
    "\n",
    "ax=fig.add_subplot(3,1,2)\n",
    "# ax.plot(X1, Y1,'g.', label=\"Low-fidelity data\")\n",
    "ax.plot(X2,Y2,\"bo\",markersize=2,label=\"High-fidelity data\")\n",
    "ax.plot(Xtest,Exact,\"b\",lw=1,label=\"Target function\")\n",
    "ax.plot(Xtest, mean_singlegp, 'r--', lw=1,label = 'SingleGP pred.')\n",
    "ax.fill_between(Xtest.ravel(), (mean_singlegp-2.0*np.sqrt(var_singlegp)).ravel(), (mean_singlegp+2.0*np.sqrt(var_singlegp)).ravel(), alpha=0.1, color='red')\n",
    "ax.set_xlabel(r\"$x$\")\n",
    "ax.set_ylabel(r\"$y$\")\n",
    "ax.set_xlim(0,2)\n",
    "ax.set_ylim(-2.2,1.2)\n",
    "ax.legend(ncol=2)\n",
    "ax.text(1.82,0.8,\"(b)\",color=\"k\", fontfamily=\"sans-serif\", fontweight=\"bold\", fontsize=8)\n",
    "\n",
    "ax = fig.add_subplot(3,1,3)\n",
    "ax.plot(X1,Y1,\"g+\",label=\"Low-fidelity data\")\n",
    "ax.plot(X2,Y2,\"bo\",markersize=2,label=\"High-fidelity data\")\n",
    "ax.plot(Xtest,Exact,\"b\",lw=1,label=\"Target function\")\n",
    "ax.plot(Xtest, mean, 'r--', lw=1, label = 'NARGP pred.')\n",
    "ax.fill_between(Xtest.ravel(), (mean-2.0*np.sqrt(var)).ravel(), (mean+2.0*np.sqrt(var)).ravel(), alpha=0.1, color='red')\n",
    "ax.set_xlabel(r\"$x$\")\n",
    "ax.set_ylabel(r\"$y$\")\n",
    "ax.set_xlim(0,2)\n",
    "ax.set_ylim(-2.2,1.2)\n",
    "ax.legend(ncol=2)\n",
    "ax.text(1.82,0.8,\"(c)\",color=\"k\", fontfamily=\"sans-serif\", fontweight=\"bold\", fontsize=8)\n",
    "\n",
    "fig.tight_layout()\n",
    "plt.savefig(\"fig1.pdf\",dpi=600,bbox_inches=\"tight\")\n",
    "plt.show() "
   ]
  },
  {
   "cell_type": "code",
   "execution_count": null,
   "id": "0a679d6b-def9-491d-b35f-79cfa10a9ae7",
   "metadata": {},
   "outputs": [],
   "source": []
  }
 ],
 "metadata": {
  "kernelspec": {
   "display_name": "Python 3 (ipykernel)",
   "language": "python",
   "name": "python3"
  },
  "language_info": {
   "codemirror_mode": {
    "name": "ipython",
    "version": 3
   },
   "file_extension": ".py",
   "mimetype": "text/x-python",
   "name": "python",
   "nbconvert_exporter": "python",
   "pygments_lexer": "ipython3",
   "version": "3.10.13"
  }
 },
 "nbformat": 4,
 "nbformat_minor": 5
}
